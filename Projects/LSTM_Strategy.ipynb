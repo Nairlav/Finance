{
  "cells": [
    {
      "cell_type": "code",
      "execution_count": 1,
      "metadata": {
        "id": "aSDo0KkkyHEF",
        "outputId": "d8bf0fc2-0b6c-4da0-a670-5e967d814608",
        "colab": {
          "base_uri": "https://localhost:8080/",
          "height": 380
        }
      },
      "outputs": [
        {
          "output_type": "error",
          "ename": "ModuleNotFoundError",
          "evalue": "No module named 'vectorbt'",
          "traceback": [
            "\u001b[0;31m---------------------------------------------------------------------------\u001b[0m",
            "\u001b[0;31mModuleNotFoundError\u001b[0m                       Traceback (most recent call last)",
            "\u001b[0;32m<ipython-input-1-bb581457e4c2>\u001b[0m in \u001b[0;36m<cell line: 0>\u001b[0;34m()\u001b[0m\n\u001b[1;32m      2\u001b[0m \u001b[0;32mimport\u001b[0m \u001b[0mpandas\u001b[0m \u001b[0;32mas\u001b[0m \u001b[0mpd\u001b[0m\u001b[0;34m\u001b[0m\u001b[0;34m\u001b[0m\u001b[0m\n\u001b[1;32m      3\u001b[0m \u001b[0;32mfrom\u001b[0m \u001b[0mdatetime\u001b[0m \u001b[0;32mimport\u001b[0m \u001b[0mdatetime\u001b[0m\u001b[0;34m\u001b[0m\u001b[0;34m\u001b[0m\u001b[0m\n\u001b[0;32m----> 4\u001b[0;31m \u001b[0;32mimport\u001b[0m \u001b[0mvectorbt\u001b[0m \u001b[0;32mas\u001b[0m \u001b[0mvbt\u001b[0m\u001b[0;34m\u001b[0m\u001b[0;34m\u001b[0m\u001b[0m\n\u001b[0m\u001b[1;32m      5\u001b[0m \u001b[0;32mimport\u001b[0m \u001b[0mtime\u001b[0m\u001b[0;34m\u001b[0m\u001b[0;34m\u001b[0m\u001b[0m\n",
            "\u001b[0;31mModuleNotFoundError\u001b[0m: No module named 'vectorbt'",
            "",
            "\u001b[0;31m---------------------------------------------------------------------------\u001b[0;32m\nNOTE: If your import is failing due to a missing package, you can\nmanually install dependencies using either !pip or !apt.\n\nTo view examples of installing some common dependencies, click the\n\"Open Examples\" button below.\n\u001b[0;31m---------------------------------------------------------------------------\u001b[0m\n"
          ],
          "errorDetails": {
            "actions": [
              {
                "action": "open_url",
                "actionText": "Open Examples",
                "url": "/notebooks/snippets/importing_libraries.ipynb"
              }
            ]
          }
        }
      ],
      "source": [
        "import numpy as np\n",
        "import pandas as pd\n",
        "from datetime import datetime\n",
        "import vectorbt as vbt\n",
        "import time"
      ]
    },
    {
      "cell_type": "markdown",
      "metadata": {
        "id": "vsrBNtkDyHEG"
      },
      "source": [
        "| Interval       | Max Lookback Period (approx)  |\n",
        "|----------------|-------------------------------|\n",
        "| `'1m'`         | 7 days                        |\n",
        "| `'2m'`         | 60 days                       |\n",
        "| `'5m'`         | 60 days                       |\n",
        "| `'15m'`        | 60 days                       |\n",
        "| `'30m'`        | 60 days                       |\n",
        "| `'60m'` / `'1h'` | 730 days (~2 years)        |\n",
        "| `'1d'`         | ~20+ years                    |\n",
        "| `'1wk'`        | ~20+ years                    |\n",
        "| `'1mo'`        | ~20+ years                    |"
      ]
    },
    {
      "cell_type": "code",
      "execution_count": null,
      "metadata": {
        "id": "OW7pGInMyHEH",
        "outputId": "60aa823d-98b2-4508-ccc5-b39dd3881486",
        "colab": {
          "referenced_widgets": [
            "0fcff9d1e8ae496aae6740b7482ed601"
          ]
        }
      },
      "outputs": [
        {
          "data": {
            "application/vnd.jupyter.widget-view+json": {
              "model_id": "0fcff9d1e8ae496aae6740b7482ed601",
              "version_major": 2,
              "version_minor": 0
            },
            "text/plain": [
              "0it [00:00, ?it/s]"
            ]
          },
          "metadata": {},
          "output_type": "display_data"
        },
        {
          "name": "stdout",
          "output_type": "stream",
          "text": [
            "0.13259\n",
            "0.74946\n"
          ]
        }
      ],
      "source": [
        "ticker = \"BTCUSDT\"\n",
        "data_request = vbt.BinanceData.download(ticker, start=\"1 hours ago UTC\", end =\"now UTC\", interval =\"1m\")\n",
        "data = data_request.get()\n",
        "\n",
        "print(data[\"Volume\"].iloc[-1])\n",
        "\n",
        "time.sleep(3)\n",
        "data_request = data_request.update()\n",
        "data = data_request.get()\n",
        "print(data[\"Volume\"].iloc[-1])"
      ]
    },
    {
      "cell_type": "code",
      "execution_count": null,
      "metadata": {
        "id": "GjH7zhbNyHEI",
        "outputId": "5d14c65c-6158-4e93-db6a-6e454d28f5b8",
        "colab": {
          "referenced_widgets": [
            "46747696f64b453ca976c766249a382b"
          ]
        }
      },
      "outputs": [
        {
          "data": {
            "application/vnd.jupyter.widget-view+json": {
              "model_id": "46747696f64b453ca976c766249a382b",
              "version_major": 2,
              "version_minor": 0
            },
            "text/plain": [
              "FigureWidget({\n",
              "    'data': [{'close': array([83783.02, 83810.02, 83772.  , 83773.68, 83777.1 , 83761.86, 83795.65,\n",
              "                              83806.47, 83815.93, 83823.57, 83830.16, 83839.32, 83838.22, 83838.23,\n",
              "                              83843.29, 83865.38, 83850.94, 83890.13, 83847.07, 83839.13, 83809.95,\n",
              "                              83762.12, 83772.41, 83772.41, 83788.3 , 83788.3 , 83793.36, 83799.99,\n",
              "                              83802.3 , 83806.48, 83752.18, 83757.41, 83764.37, 83759.08, 83750.01,\n",
              "                              83687.49, 83708.  , 83708.  , 83718.83, 83695.14, 83735.83, 83726.08,\n",
              "                              83720.85, 83720.86, 83737.58, 83720.28, 83721.87, 83716.98, 83716.98,\n",
              "                              83716.98, 83729.98, 83740.73, 83656.58, 83656.  , 83644.53, 83644.53,\n",
              "                              83632.  , 83632.01, 83625.01, 83625.  ]),\n",
              "              'decreasing': {'line': {'color': '#d95f02'}},\n",
              "              'high': array([83783.02, 83810.03, 83810.03, 83773.68, 83777.11, 83777.11, 83795.66,\n",
              "                             83806.47, 83819.48, 83823.58, 83830.16, 83839.33, 83839.33, 83838.23,\n",
              "                             83865.1 , 83880.37, 83876.53, 83894.45, 83894.7 , 83847.07, 83839.14,\n",
              "                             83809.95, 83772.41, 83772.41, 83788.31, 83788.31, 83793.36, 83800.  ,\n",
              "                             83802.3 , 83806.48, 83806.48, 83757.42, 83781.31, 83764.37, 83759.08,\n",
              "                             83750.01, 83708.  , 83708.  , 83735.85, 83732.2 , 83735.84, 83735.84,\n",
              "                             83726.09, 83720.86, 83737.58, 83737.58, 83721.87, 83727.45, 83716.98,\n",
              "                             83716.98, 83729.98, 83751.02, 83740.74, 83656.58, 83656.01, 83644.54,\n",
              "                             83644.54, 83632.01, 83632.01, 83625.01]),\n",
              "              'increasing': {'line': {'color': '#1b9e76'}},\n",
              "              'low': array([83783.01, 83783.01, 83762.58, 83771.99, 83773.68, 83752.17, 83761.85,\n",
              "                            83795.65, 83806.46, 83815.92, 83823.57, 83830.15, 83838.22, 83836.  ,\n",
              "                            83838.22, 83843.28, 83848.01, 83850.93, 83847.06, 83839.13, 83800.  ,\n",
              "                            83762.12, 83762.12, 83772.4 , 83772.4 , 83788.3 , 83788.3 , 83792.93,\n",
              "                            83799.99, 83802.29, 83752.18, 83752.18, 83757.41, 83759.07, 83750.  ,\n",
              "                            83687.48, 83687.48, 83707.99, 83707.99, 83695.13, 83695.13, 83726.08,\n",
              "                            83720.85, 83720.85, 83720.85, 83720.28, 83720.28, 83716.97, 83716.97,\n",
              "                            83716.97, 83716.97, 83729.98, 83656.57, 83625.01, 83644.53, 83644.53,\n",
              "                            83632.  , 83632.  , 83625.  , 83625.  ]),\n",
              "              'name': 'Candlestick',\n",
              "              'open': array([83783.01, 83783.01, 83810.03, 83772.  , 83773.68, 83777.11, 83761.86,\n",
              "                             83795.66, 83806.47, 83815.93, 83823.57, 83830.16, 83839.32, 83838.23,\n",
              "                             83838.23, 83843.28, 83865.39, 83850.94, 83890.13, 83847.07, 83839.14,\n",
              "                             83809.95, 83762.13, 83772.4 , 83772.41, 83788.31, 83788.3 , 83793.36,\n",
              "                             83800.  , 83802.3 , 83806.48, 83752.19, 83757.42, 83764.36, 83759.07,\n",
              "                             83750.  , 83687.48, 83708.  , 83708.  , 83718.84, 83695.14, 83735.84,\n",
              "                             83726.08, 83720.85, 83720.85, 83737.57, 83720.29, 83721.87, 83716.98,\n",
              "                             83716.98, 83716.97, 83729.98, 83740.73, 83656.57, 83656.  , 83644.54,\n",
              "                             83644.53, 83632.01, 83632.01, 83625.01]),\n",
              "              'type': 'candlestick',\n",
              "              'uid': '519b40b3-7654-4fdf-8034-ffad0bce3a17',\n",
              "              'x': array([datetime.datetime(2025, 4, 5, 9, 45, tzinfo=datetime.timezone.utc),\n",
              "                          datetime.datetime(2025, 4, 5, 9, 46, tzinfo=datetime.timezone.utc),\n",
              "                          datetime.datetime(2025, 4, 5, 9, 47, tzinfo=datetime.timezone.utc),\n",
              "                          datetime.datetime(2025, 4, 5, 9, 48, tzinfo=datetime.timezone.utc),\n",
              "                          datetime.datetime(2025, 4, 5, 9, 49, tzinfo=datetime.timezone.utc),\n",
              "                          datetime.datetime(2025, 4, 5, 9, 50, tzinfo=datetime.timezone.utc),\n",
              "                          datetime.datetime(2025, 4, 5, 9, 51, tzinfo=datetime.timezone.utc),\n",
              "                          datetime.datetime(2025, 4, 5, 9, 52, tzinfo=datetime.timezone.utc),\n",
              "                          datetime.datetime(2025, 4, 5, 9, 53, tzinfo=datetime.timezone.utc),\n",
              "                          datetime.datetime(2025, 4, 5, 9, 54, tzinfo=datetime.timezone.utc),\n",
              "                          datetime.datetime(2025, 4, 5, 9, 55, tzinfo=datetime.timezone.utc),\n",
              "                          datetime.datetime(2025, 4, 5, 9, 56, tzinfo=datetime.timezone.utc),\n",
              "                          datetime.datetime(2025, 4, 5, 9, 57, tzinfo=datetime.timezone.utc),\n",
              "                          datetime.datetime(2025, 4, 5, 9, 58, tzinfo=datetime.timezone.utc),\n",
              "                          datetime.datetime(2025, 4, 5, 9, 59, tzinfo=datetime.timezone.utc),\n",
              "                          datetime.datetime(2025, 4, 5, 10, 0, tzinfo=datetime.timezone.utc),\n",
              "                          datetime.datetime(2025, 4, 5, 10, 1, tzinfo=datetime.timezone.utc),\n",
              "                          datetime.datetime(2025, 4, 5, 10, 2, tzinfo=datetime.timezone.utc),\n",
              "                          datetime.datetime(2025, 4, 5, 10, 3, tzinfo=datetime.timezone.utc),\n",
              "                          datetime.datetime(2025, 4, 5, 10, 4, tzinfo=datetime.timezone.utc),\n",
              "                          datetime.datetime(2025, 4, 5, 10, 5, tzinfo=datetime.timezone.utc),\n",
              "                          datetime.datetime(2025, 4, 5, 10, 6, tzinfo=datetime.timezone.utc),\n",
              "                          datetime.datetime(2025, 4, 5, 10, 7, tzinfo=datetime.timezone.utc),\n",
              "                          datetime.datetime(2025, 4, 5, 10, 8, tzinfo=datetime.timezone.utc),\n",
              "                          datetime.datetime(2025, 4, 5, 10, 9, tzinfo=datetime.timezone.utc),\n",
              "                          datetime.datetime(2025, 4, 5, 10, 10, tzinfo=datetime.timezone.utc),\n",
              "                          datetime.datetime(2025, 4, 5, 10, 11, tzinfo=datetime.timezone.utc),\n",
              "                          datetime.datetime(2025, 4, 5, 10, 12, tzinfo=datetime.timezone.utc),\n",
              "                          datetime.datetime(2025, 4, 5, 10, 13, tzinfo=datetime.timezone.utc),\n",
              "                          datetime.datetime(2025, 4, 5, 10, 14, tzinfo=datetime.timezone.utc),\n",
              "                          datetime.datetime(2025, 4, 5, 10, 15, tzinfo=datetime.timezone.utc),\n",
              "                          datetime.datetime(2025, 4, 5, 10, 16, tzinfo=datetime.timezone.utc),\n",
              "                          datetime.datetime(2025, 4, 5, 10, 17, tzinfo=datetime.timezone.utc),\n",
              "                          datetime.datetime(2025, 4, 5, 10, 18, tzinfo=datetime.timezone.utc),\n",
              "                          datetime.datetime(2025, 4, 5, 10, 19, tzinfo=datetime.timezone.utc),\n",
              "                          datetime.datetime(2025, 4, 5, 10, 20, tzinfo=datetime.timezone.utc),\n",
              "                          datetime.datetime(2025, 4, 5, 10, 21, tzinfo=datetime.timezone.utc),\n",
              "                          datetime.datetime(2025, 4, 5, 10, 22, tzinfo=datetime.timezone.utc),\n",
              "                          datetime.datetime(2025, 4, 5, 10, 23, tzinfo=datetime.timezone.utc),\n",
              "                          datetime.datetime(2025, 4, 5, 10, 24, tzinfo=datetime.timezone.utc),\n",
              "                          datetime.datetime(2025, 4, 5, 10, 25, tzinfo=datetime.timezone.utc),\n",
              "                          datetime.datetime(2025, 4, 5, 10, 26, tzinfo=datetime.timezone.utc),\n",
              "                          datetime.datetime(2025, 4, 5, 10, 27, tzinfo=datetime.timezone.utc),\n",
              "                          datetime.datetime(2025, 4, 5, 10, 28, tzinfo=datetime.timezone.utc),\n",
              "                          datetime.datetime(2025, 4, 5, 10, 29, tzinfo=datetime.timezone.utc),\n",
              "                          datetime.datetime(2025, 4, 5, 10, 30, tzinfo=datetime.timezone.utc),\n",
              "                          datetime.datetime(2025, 4, 5, 10, 31, tzinfo=datetime.timezone.utc),\n",
              "                          datetime.datetime(2025, 4, 5, 10, 32, tzinfo=datetime.timezone.utc),\n",
              "                          datetime.datetime(2025, 4, 5, 10, 33, tzinfo=datetime.timezone.utc),\n",
              "                          datetime.datetime(2025, 4, 5, 10, 34, tzinfo=datetime.timezone.utc),\n",
              "                          datetime.datetime(2025, 4, 5, 10, 35, tzinfo=datetime.timezone.utc),\n",
              "                          datetime.datetime(2025, 4, 5, 10, 36, tzinfo=datetime.timezone.utc),\n",
              "                          datetime.datetime(2025, 4, 5, 10, 37, tzinfo=datetime.timezone.utc),\n",
              "                          datetime.datetime(2025, 4, 5, 10, 38, tzinfo=datetime.timezone.utc),\n",
              "                          datetime.datetime(2025, 4, 5, 10, 39, tzinfo=datetime.timezone.utc),\n",
              "                          datetime.datetime(2025, 4, 5, 10, 40, tzinfo=datetime.timezone.utc),\n",
              "                          datetime.datetime(2025, 4, 5, 10, 41, tzinfo=datetime.timezone.utc),\n",
              "                          datetime.datetime(2025, 4, 5, 10, 42, tzinfo=datetime.timezone.utc),\n",
              "                          datetime.datetime(2025, 4, 5, 10, 43, tzinfo=datetime.timezone.utc),\n",
              "                          datetime.datetime(2025, 4, 5, 10, 44, tzinfo=datetime.timezone.utc)],\n",
              "                         dtype=object),\n",
              "              'xaxis': 'x',\n",
              "              'yaxis': 'y'},\n",
              "             {'marker': {'color': array(['#1b9e76', '#1b9e76', '#d95f02', '#1b9e76', '#1b9e76', '#d95f02',\n",
              "                                         '#1b9e76', '#1b9e76', '#1b9e76', '#1b9e76', '#1b9e76', '#1b9e76',\n",
              "                                         '#d95f02', '#7f7f7f', '#1b9e76', '#1b9e76', '#d95f02', '#1b9e76',\n",
              "                                         '#d95f02', '#d95f02', '#d95f02', '#d95f02', '#1b9e76', '#1b9e76',\n",
              "                                         '#1b9e76', '#d95f02', '#1b9e76', '#1b9e76', '#1b9e76', '#1b9e76',\n",
              "                                         '#d95f02', '#1b9e76', '#1b9e76', '#d95f02', '#d95f02', '#d95f02',\n",
              "                                         '#1b9e76', '#7f7f7f', '#1b9e76', '#d95f02', '#1b9e76', '#d95f02',\n",
              "                                         '#d95f02', '#1b9e76', '#1b9e76', '#d95f02', '#1b9e76', '#d95f02',\n",
              "                                         '#7f7f7f', '#7f7f7f', '#1b9e76', '#1b9e76', '#d95f02', '#d95f02',\n",
              "                                         '#d95f02', '#d95f02', '#d95f02', '#7f7f7f', '#d95f02', '#d95f02'],\n",
              "                                        dtype=object),\n",
              "                         'line': {'width': 0}},\n",
              "              'name': 'Volume',\n",
              "              'opacity': 0.5,\n",
              "              'type': 'bar',\n",
              "              'uid': '80e73f3d-ca8b-44ef-ab9c-850f06b13999',\n",
              "              'x': array([datetime.datetime(2025, 4, 5, 9, 45, tzinfo=datetime.timezone.utc),\n",
              "                          datetime.datetime(2025, 4, 5, 9, 46, tzinfo=datetime.timezone.utc),\n",
              "                          datetime.datetime(2025, 4, 5, 9, 47, tzinfo=datetime.timezone.utc),\n",
              "                          datetime.datetime(2025, 4, 5, 9, 48, tzinfo=datetime.timezone.utc),\n",
              "                          datetime.datetime(2025, 4, 5, 9, 49, tzinfo=datetime.timezone.utc),\n",
              "                          datetime.datetime(2025, 4, 5, 9, 50, tzinfo=datetime.timezone.utc),\n",
              "                          datetime.datetime(2025, 4, 5, 9, 51, tzinfo=datetime.timezone.utc),\n",
              "                          datetime.datetime(2025, 4, 5, 9, 52, tzinfo=datetime.timezone.utc),\n",
              "                          datetime.datetime(2025, 4, 5, 9, 53, tzinfo=datetime.timezone.utc),\n",
              "                          datetime.datetime(2025, 4, 5, 9, 54, tzinfo=datetime.timezone.utc),\n",
              "                          datetime.datetime(2025, 4, 5, 9, 55, tzinfo=datetime.timezone.utc),\n",
              "                          datetime.datetime(2025, 4, 5, 9, 56, tzinfo=datetime.timezone.utc),\n",
              "                          datetime.datetime(2025, 4, 5, 9, 57, tzinfo=datetime.timezone.utc),\n",
              "                          datetime.datetime(2025, 4, 5, 9, 58, tzinfo=datetime.timezone.utc),\n",
              "                          datetime.datetime(2025, 4, 5, 9, 59, tzinfo=datetime.timezone.utc),\n",
              "                          datetime.datetime(2025, 4, 5, 10, 0, tzinfo=datetime.timezone.utc),\n",
              "                          datetime.datetime(2025, 4, 5, 10, 1, tzinfo=datetime.timezone.utc),\n",
              "                          datetime.datetime(2025, 4, 5, 10, 2, tzinfo=datetime.timezone.utc),\n",
              "                          datetime.datetime(2025, 4, 5, 10, 3, tzinfo=datetime.timezone.utc),\n",
              "                          datetime.datetime(2025, 4, 5, 10, 4, tzinfo=datetime.timezone.utc),\n",
              "                          datetime.datetime(2025, 4, 5, 10, 5, tzinfo=datetime.timezone.utc),\n",
              "                          datetime.datetime(2025, 4, 5, 10, 6, tzinfo=datetime.timezone.utc),\n",
              "                          datetime.datetime(2025, 4, 5, 10, 7, tzinfo=datetime.timezone.utc),\n",
              "                          datetime.datetime(2025, 4, 5, 10, 8, tzinfo=datetime.timezone.utc),\n",
              "                          datetime.datetime(2025, 4, 5, 10, 9, tzinfo=datetime.timezone.utc),\n",
              "                          datetime.datetime(2025, 4, 5, 10, 10, tzinfo=datetime.timezone.utc),\n",
              "                          datetime.datetime(2025, 4, 5, 10, 11, tzinfo=datetime.timezone.utc),\n",
              "                          datetime.datetime(2025, 4, 5, 10, 12, tzinfo=datetime.timezone.utc),\n",
              "                          datetime.datetime(2025, 4, 5, 10, 13, tzinfo=datetime.timezone.utc),\n",
              "                          datetime.datetime(2025, 4, 5, 10, 14, tzinfo=datetime.timezone.utc),\n",
              "                          datetime.datetime(2025, 4, 5, 10, 15, tzinfo=datetime.timezone.utc),\n",
              "                          datetime.datetime(2025, 4, 5, 10, 16, tzinfo=datetime.timezone.utc),\n",
              "                          datetime.datetime(2025, 4, 5, 10, 17, tzinfo=datetime.timezone.utc),\n",
              "                          datetime.datetime(2025, 4, 5, 10, 18, tzinfo=datetime.timezone.utc),\n",
              "                          datetime.datetime(2025, 4, 5, 10, 19, tzinfo=datetime.timezone.utc),\n",
              "                          datetime.datetime(2025, 4, 5, 10, 20, tzinfo=datetime.timezone.utc),\n",
              "                          datetime.datetime(2025, 4, 5, 10, 21, tzinfo=datetime.timezone.utc),\n",
              "                          datetime.datetime(2025, 4, 5, 10, 22, tzinfo=datetime.timezone.utc),\n",
              "                          datetime.datetime(2025, 4, 5, 10, 23, tzinfo=datetime.timezone.utc),\n",
              "                          datetime.datetime(2025, 4, 5, 10, 24, tzinfo=datetime.timezone.utc),\n",
              "                          datetime.datetime(2025, 4, 5, 10, 25, tzinfo=datetime.timezone.utc),\n",
              "                          datetime.datetime(2025, 4, 5, 10, 26, tzinfo=datetime.timezone.utc),\n",
              "                          datetime.datetime(2025, 4, 5, 10, 27, tzinfo=datetime.timezone.utc),\n",
              "                          datetime.datetime(2025, 4, 5, 10, 28, tzinfo=datetime.timezone.utc),\n",
              "                          datetime.datetime(2025, 4, 5, 10, 29, tzinfo=datetime.timezone.utc),\n",
              "                          datetime.datetime(2025, 4, 5, 10, 30, tzinfo=datetime.timezone.utc),\n",
              "                          datetime.datetime(2025, 4, 5, 10, 31, tzinfo=datetime.timezone.utc),\n",
              "                          datetime.datetime(2025, 4, 5, 10, 32, tzinfo=datetime.timezone.utc),\n",
              "                          datetime.datetime(2025, 4, 5, 10, 33, tzinfo=datetime.timezone.utc),\n",
              "                          datetime.datetime(2025, 4, 5, 10, 34, tzinfo=datetime.timezone.utc),\n",
              "                          datetime.datetime(2025, 4, 5, 10, 35, tzinfo=datetime.timezone.utc),\n",
              "                          datetime.datetime(2025, 4, 5, 10, 36, tzinfo=datetime.timezone.utc),\n",
              "                          datetime.datetime(2025, 4, 5, 10, 37, tzinfo=datetime.timezone.utc),\n",
              "                          datetime.datetime(2025, 4, 5, 10, 38, tzinfo=datetime.timezone.utc),\n",
              "                          datetime.datetime(2025, 4, 5, 10, 39, tzinfo=datetime.timezone.utc),\n",
              "                          datetime.datetime(2025, 4, 5, 10, 40, tzinfo=datetime.timezone.utc),\n",
              "                          datetime.datetime(2025, 4, 5, 10, 41, tzinfo=datetime.timezone.utc),\n",
              "                          datetime.datetime(2025, 4, 5, 10, 42, tzinfo=datetime.timezone.utc),\n",
              "                          datetime.datetime(2025, 4, 5, 10, 43, tzinfo=datetime.timezone.utc),\n",
              "                          datetime.datetime(2025, 4, 5, 10, 44, tzinfo=datetime.timezone.utc)],\n",
              "                         dtype=object),\n",
              "              'xaxis': 'x2',\n",
              "              'y': array([ 1.40741,  6.70406,  6.71591,  1.80535,  1.83502, 38.98054,  4.30847,\n",
              "                           1.71802,  8.83681,  5.57657,  1.56307,  1.40768,  5.79768, 10.63665,\n",
              "                          13.07487,  8.71671,  9.68334, 16.1555 ,  6.94615,  2.76971,  4.58057,\n",
              "                           8.65692,  3.03078,  1.20083,  3.21661,  0.85688,  0.91639,  9.96254,\n",
              "                           3.51133,  0.61409,  4.48152,  1.03421,  2.19407,  1.86806,  1.94451,\n",
              "                           7.84479,  2.70189,  1.17582,  5.54638,  2.63275,  1.87104,  1.03685,\n",
              "                           1.05761,  0.40149,  2.42071,  2.29495,  1.08029,  3.48787,  0.49539,\n",
              "                           0.34062,  1.483  ,  6.43952,  5.89684,  9.24463,  2.52644,  0.51185,\n",
              "                           2.26694,  0.73729,  1.59088,  2.48355]),\n",
              "              'yaxis': 'y2'}],\n",
              "    'layout': {'bargap': 0,\n",
              "               'height': 350,\n",
              "               'legend': {'orientation': 'h',\n",
              "                          'traceorder': 'normal',\n",
              "                          'x': 1,\n",
              "                          'xanchor': 'right',\n",
              "                          'y': 1.02,\n",
              "                          'yanchor': 'bottom'},\n",
              "               'margin': {'b': 30, 'l': 30, 'r': 30, 't': 30},\n",
              "               'showlegend': True,\n",
              "               'template': '...',\n",
              "               'width': 700,\n",
              "               'xaxis': {'anchor': 'y',\n",
              "                         'domain': [0.0, 1.0],\n",
              "                         'matches': 'x2',\n",
              "                         'rangeslider': {'visible': False},\n",
              "                         'showgrid': True,\n",
              "                         'showticklabels': False},\n",
              "               'xaxis2': {'anchor': 'y2', 'domain': [0.0, 1.0], 'showgrid': True},\n",
              "               'yaxis': {'anchor': 'x', 'domain': [0.3, 1.0], 'showgrid': True},\n",
              "               'yaxis2': {'anchor': 'x2', 'domain': [0.0, 0.3], 'showgrid': True}}\n",
              "})"
            ]
          },
          "execution_count": 7,
          "metadata": {},
          "output_type": "execute_result"
        }
      ],
      "source": [
        "price.vbt.ohlcv.plot(plot_type=\"candlestick\",show_volume=True)"
      ]
    }
  ],
  "metadata": {
    "kernelspec": {
      "display_name": "Python 3",
      "language": "python",
      "name": "python3"
    },
    "language_info": {
      "codemirror_mode": {
        "name": "ipython",
        "version": 3
      },
      "file_extension": ".py",
      "mimetype": "text/x-python",
      "name": "python",
      "nbconvert_exporter": "python",
      "pygments_lexer": "ipython3",
      "version": "3.11.9"
    },
    "colab": {
      "provenance": []
    }
  },
  "nbformat": 4,
  "nbformat_minor": 0
}